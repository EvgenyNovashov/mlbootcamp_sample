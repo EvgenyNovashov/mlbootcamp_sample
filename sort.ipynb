{
 "cells": [
  {
   "cell_type": "code",
   "execution_count": 41,
   "metadata": {},
   "outputs": [],
   "source": [
    "pivot = 5\n",
    "a = [1,4,5,7,8,9,2,3]"
   ]
  },
  {
   "cell_type": "code",
   "execution_count": 42,
   "metadata": {},
   "outputs": [
    {
     "data": {
      "text/plain": [
       "3"
      ]
     },
     "execution_count": 42,
     "metadata": {},
     "output_type": "execute_result"
    }
   ],
   "source": [
    "a.pop()"
   ]
  },
  {
   "cell_type": "code",
   "execution_count": 39,
   "metadata": {},
   "outputs": [
    {
     "data": {
      "text/plain": [
       "1"
      ]
     },
     "execution_count": 39,
     "metadata": {},
     "output_type": "execute_result"
    }
   ],
   "source": [
    "a[-0]"
   ]
  },
  {
   "cell_type": "code",
   "execution_count": 40,
   "metadata": {},
   "outputs": [
    {
     "name": "stdout",
     "output_type": "stream",
     "text": [
      "[1, 4, 5, 3, 8, 9, 2, 7]\n",
      "[1, 4, 5, 2, 8, 9, 3, 7]\n",
      "[1, 4, 5, 2, 8, 9, 3, 7]\n",
      "[1, 4, 2, 5, 8, 9, 3, 7]\n",
      "[1, 5, 2, 4, 8, 9, 3, 7]\n",
      "[4, 5, 2, 1, 8, 9, 3, 7]\n",
      "[4, 5, 2, 1, 3, 9, 8, 7]\n",
      "[4, 5, 2, 1, 3, 9, 8, 7]\n",
      "[4, 5, 2, 3, 1, 9, 8, 7]\n",
      "[4, 5, 1, 3, 2, 9, 8, 7]\n",
      "[4, 2, 1, 3, 5, 9, 8, 7]\n",
      "[5, 2, 1, 3, 4, 9, 8, 7]\n",
      "[5, 2, 1, 3, 9, 4, 8, 7]\n",
      "[5, 2, 1, 4, 9, 3, 8, 7]\n",
      "[5, 2, 3, 4, 9, 1, 8, 7]\n",
      "[5, 1, 3, 4, 9, 2, 8, 7]\n",
      "[2, 1, 3, 4, 9, 5, 8, 7]\n",
      "[2, 1, 3, 4, 9, 8, 5, 7]\n",
      "[2, 1, 3, 5, 9, 8, 4, 7]\n",
      "[2, 1, 4, 5, 9, 8, 3, 7]\n",
      "[2, 3, 4, 5, 9, 8, 1, 7]\n",
      "[1, 3, 4, 5, 9, 8, 2, 7]\n",
      "[1, 3, 4, 5, 9, 8, 7, 2]\n",
      "[1, 3, 4, 2, 9, 8, 7, 5]\n",
      "[1, 3, 5, 2, 9, 8, 7, 4]\n",
      "[1, 4, 5, 2, 9, 8, 7, 3]\n",
      "[3, 4, 5, 2, 9, 8, 7, 1]\n"
     ]
    }
   ],
   "source": [
    "pivot = 5\n",
    "for i in range(len(a)):\n",
    "    if a[i]>pivot:\n",
    "        for j in range(len(a)):\n",
    "            if a[-1-j]<=pivot:\n",
    "                a[i],a[-1-j] = a[-1-j],a[i]\n",
    "                print(a)"
   ]
  },
  {
   "cell_type": "code",
   "execution_count": 37,
   "metadata": {},
   "outputs": [
    {
     "data": {
      "text/plain": [
       "[5, 2, 1, 3, 9, 8, 7, 4]"
      ]
     },
     "execution_count": 37,
     "metadata": {},
     "output_type": "execute_result"
    }
   ],
   "source": [
    "a"
   ]
  },
  {
   "cell_type": "code",
   "execution_count": 20,
   "metadata": {},
   "outputs": [],
   "source": [
    "q, w = w, q"
   ]
  },
  {
   "cell_type": "code",
   "execution_count": 21,
   "metadata": {},
   "outputs": [
    {
     "data": {
      "text/plain": [
       "2"
      ]
     },
     "execution_count": 21,
     "metadata": {},
     "output_type": "execute_result"
    }
   ],
   "source": [
    "q"
   ]
  },
  {
   "cell_type": "code",
   "execution_count": null,
   "metadata": {},
   "outputs": [],
   "source": []
  }
 ],
 "metadata": {
  "kernelspec": {
   "display_name": "Python 3",
   "language": "python",
   "name": "python3"
  },
  "language_info": {
   "codemirror_mode": {
    "name": "ipython",
    "version": 3
   },
   "file_extension": ".py",
   "mimetype": "text/x-python",
   "name": "python",
   "nbconvert_exporter": "python",
   "pygments_lexer": "ipython3",
   "version": "3.6.6"
  }
 },
 "nbformat": 4,
 "nbformat_minor": 2
}
