{
 "cells": [
  {
   "cell_type": "code",
   "execution_count": 5,
   "metadata": {},
   "outputs": [],
   "source": [
    "num_vertices = 6\n",
    "edges_list = [[0, 1],  \n",
    "              [0, 2],\n",
    "              [0, 4],\n",
    "              [1, 2],\n",
    "              [1, 3],\n",
    "              [1, 4],\n",
    "             ]"
   ]
  },
  {
   "cell_type": "code",
   "execution_count": 8,
   "metadata": {},
   "outputs": [
    {
     "data": {
      "text/plain": [
       "list"
      ]
     },
     "execution_count": 8,
     "metadata": {},
     "output_type": "execute_result"
    }
   ],
   "source": [
    "type(edges_list[0])"
   ]
  },
  {
   "cell_type": "code",
   "execution_count": 9,
   "metadata": {},
   "outputs": [],
   "source": [
    "adjacency_matrix = [[0, 1, 1, 0, 1, 0],  \n",
    "                    [1, 0, 1, 1, 1, 0],\n",
    "                    [1, 1, 0, 0, 0, 0],\n",
    "                    [0, 1, 0, 0, 0, 0],\n",
    "                    [1, 1, 0, 0, 0, 0],\n",
    "                    [0, 0, 0, 0, 0, 0],\n",
    "                   ]\n",
    "num_vertices = len(adjacency_matrix)"
   ]
  },
  {
   "cell_type": "code",
   "execution_count": 11,
   "metadata": {},
   "outputs": [
    {
     "data": {
      "text/plain": [
       "6"
      ]
     },
     "execution_count": 11,
     "metadata": {},
     "output_type": "execute_result"
    }
   ],
   "source": [
    "num_vertices"
   ]
  },
  {
   "cell_type": "code",
   "execution_count": 12,
   "metadata": {},
   "outputs": [],
   "source": [
    "adjacency_list = [[1, 2, 4],  # здесь перечислены соседи вершины 0\n",
    "                  [0, 2, 3, 4],\n",
    "                  [0, 1],\n",
    "                  [1],\n",
    "                  [0, 1],\n",
    "                  [],\n",
    "                 ]\n",
    "num_vertices = len(adjacency_list)"
   ]
  },
  {
   "cell_type": "code",
   "execution_count": 58,
   "metadata": {},
   "outputs": [],
   "source": [
    "#\n",
    "#   2--0--6--7   1--9   5\n",
    "#   |  |  |\n",
    "#   3--4  8 \n",
    "#\n",
    "n = 10\n",
    "adj_list = [[2, 4, 6],\n",
    "            [9],\n",
    "            [0, 3],\n",
    "            [2, 4],\n",
    "            [0, 3],\n",
    "            [],\n",
    "            [0, 7, 8],\n",
    "            [6],\n",
    "            [6],\n",
    "            [1]]\n",
    "s = 0\n",
    "\n",
    "visited = [False] * n  # массив \"посещена ли вершина?\"\n",
    "\n",
    "def dfs(v):\n",
    "    visited[v] = True\n",
    "    for w in adj_list[v]:\n",
    "        if visited[w] == False:  # посещён ли текущий сосед?\n",
    "            dfs(w)\n",
    "\n"
   ]
  },
  {
   "cell_type": "code",
   "execution_count": 59,
   "metadata": {},
   "outputs": [],
   "source": [
    "dfs(0)"
   ]
  },
  {
   "cell_type": "code",
   "execution_count": 60,
   "metadata": {},
   "outputs": [
    {
     "name": "stdout",
     "output_type": "stream",
     "text": [
      "[True, False, True, True, True, False, True, True, True, False]\n",
      "7\n"
     ]
    }
   ],
   "source": [
    "print(visited)\n",
    "print(visited.count(True))"
   ]
  },
  {
   "cell_type": "markdown",
   "metadata": {},
   "source": [
    "Подсчет количества компонент связности"
   ]
  },
  {
   "cell_type": "code",
   "execution_count": 56,
   "metadata": {},
   "outputs": [
    {
     "name": "stdout",
     "output_type": "stream",
     "text": [
      "[False, False, False, False, False, False, False, False, False, False]\n",
      "[True, False, True, True, True, False, True, True, True, False]\n",
      "[True, True, True, True, True, False, True, True, True, True]\n"
     ]
    }
   ],
   "source": [
    "visited = [False] * n\n",
    "for v in range(n):\n",
    "    if not visited[v]:\n",
    "        print(visited)\n",
    "        dfs(v)"
   ]
  },
  {
   "cell_type": "code",
   "execution_count": 53,
   "metadata": {},
   "outputs": [],
   "source": [
    "visited = [False] * n  # массив \"посещена ли вершина?\""
   ]
  },
  {
   "cell_type": "code",
   "execution_count": 54,
   "metadata": {},
   "outputs": [],
   "source": [
    "dfs(0)"
   ]
  },
  {
   "cell_type": "code",
   "execution_count": 55,
   "metadata": {},
   "outputs": [
    {
     "data": {
      "text/plain": [
       "[True, False, True, True, True, False, True, True, True, False]"
      ]
     },
     "execution_count": 55,
     "metadata": {},
     "output_type": "execute_result"
    }
   ],
   "source": [
    "visited"
   ]
  },
  {
   "cell_type": "markdown",
   "metadata": {},
   "source": [
    "Проверка наличия пути между двумя вершинами"
   ]
  },
  {
   "cell_type": "code",
   "execution_count": 61,
   "metadata": {},
   "outputs": [],
   "source": [
    "#\n",
    "#   2--0--6--7   1--9   5\n",
    "#   |  |  |\n",
    "#   3--4  8 \n",
    "#\n",
    "n = 10\n",
    "adj_list = [[2, 4, 6],\n",
    "            [9],\n",
    "            [0, 3],\n",
    "            [2, 4],\n",
    "            [0, 3],\n",
    "            [],\n",
    "            [0, 7, 8],\n",
    "            [6],\n",
    "            [6],\n",
    "            [1]]\n",
    "\n",
    "visited = [False] * n\n",
    "component = [-1] * n  # для каждой вершины храним номер её компоненты\n",
    "num_components = 0\n",
    "\n",
    "def dfs(v):\n",
    "    component[v] = num_components\n",
    "    visited[v] = True\n",
    "    for w in adj_list[v]:\n",
    "        if visited[w] == False:\n",
    "            dfs(w)\n",
    "\n",
    "visited = [False] * n\n",
    "for v in range(n):\n",
    "    if not visited[v]:\n",
    "        dfs(v)\n",
    "        num_components += 1"
   ]
  },
  {
   "cell_type": "code",
   "execution_count": 64,
   "metadata": {},
   "outputs": [
    {
     "data": {
      "text/plain": [
       "0"
      ]
     },
     "execution_count": 64,
     "metadata": {},
     "output_type": "execute_result"
    }
   ],
   "source": [
    "component[2]"
   ]
  },
  {
   "cell_type": "code",
   "execution_count": null,
   "metadata": {},
   "outputs": [],
   "source": []
  }
 ],
 "metadata": {
  "kernelspec": {
   "display_name": "Python 3",
   "language": "python",
   "name": "python3"
  },
  "language_info": {
   "codemirror_mode": {
    "name": "ipython",
    "version": 3
   },
   "file_extension": ".py",
   "mimetype": "text/x-python",
   "name": "python",
   "nbconvert_exporter": "python",
   "pygments_lexer": "ipython3",
   "version": "3.6.6"
  }
 },
 "nbformat": 4,
 "nbformat_minor": 2
}
